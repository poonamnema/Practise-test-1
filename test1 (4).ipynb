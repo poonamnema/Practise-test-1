{
 "cells": [
  {
   "cell_type": "code",
   "execution_count": 1,
   "id": "fde48bb1",
   "metadata": {},
   "outputs": [
    {
     "name": "stdout",
     "output_type": "stream",
     "text": [
      "Name:  hello poonam\n"
     ]
    },
    {
     "data": {
      "text/plain": [
       "'Hello hello poonam !'"
      ]
     },
     "execution_count": 1,
     "metadata": {},
     "output_type": "execute_result"
    }
   ],
   "source": [
    "##1. take name as input and say hello\n",
    "name = input(\"Name:  \")\n",
    "(\"Hello {} !\".format(name))"
   ]
  },
  {
   "cell_type": "code",
   "execution_count": 2,
   "id": "00b83c66",
   "metadata": {},
   "outputs": [
    {
     "name": "stdout",
     "output_type": "stream",
     "text": [
      "2\n"
     ]
    }
   ],
   "source": [
    "# 2. From below string print count of \"Is\".\n",
    "string = \"He is Amol and she is Chaitali\"\n",
    "x=string.count(\"is\")\n",
    "print(x)"
   ]
  },
  {
   "cell_type": "code",
   "execution_count": 3,
   "id": "8addb21f",
   "metadata": {},
   "outputs": [
    {
     "name": "stdout",
     "output_type": "stream",
     "text": [
      "['Data', 'is', 'new', 'oil']\n"
     ]
    }
   ],
   "source": [
    "# 3. from below string split the words by space\n",
    "string = \"Data is new oil\"\n",
    "x=string.split(\" \")\n",
    "print(x)"
   ]
  },
  {
   "cell_type": "code",
   "execution_count": 4,
   "id": "688343f3",
   "metadata": {},
   "outputs": [
    {
     "name": "stdout",
     "output_type": "stream",
     "text": [
      "Data=is=new=oil\n"
     ]
    }
   ],
   "source": [
    "# 4. now from below list, join all words by \"=\" and create a sentence.\n",
    "list_1 = [\"Data\", \"is\", \"new\", \"oil\"]\n",
    "x='='.join(list_1)\n",
    "print(x)"
   ]
  },
  {
   "cell_type": "code",
   "execution_count": 5,
   "id": "390cf0ca",
   "metadata": {},
   "outputs": [
    {
     "name": "stdout",
     "output_type": "stream",
     "text": [
      "I love programming in Python.\n"
     ]
    }
   ],
   "source": [
    "# 5. from below string replace \"Java\" with \"Python\"\n",
    "sentence = \"I love programming in Java.\"\n",
    "x=sentence.replace(\"Java\",\"Python\")\n",
    "print(x)"
   ]
  },
  {
   "cell_type": "code",
   "execution_count": 6,
   "id": "0edf7932",
   "metadata": {},
   "outputs": [
    {
     "name": "stdout",
     "output_type": "stream",
     "text": [
      "This is a message with spaces.\n"
     ]
    }
   ],
   "source": [
    "# 6. from below string remove(strip) additional spaces and print it\n",
    "message = \"   This is a message with spaces.   \"\n",
    "x=message.strip(\" \")\n",
    "print(x)"
   ]
  },
  {
   "cell_type": "code",
   "execution_count": null,
   "id": "7cc14a40",
   "metadata": {},
   "outputs": [],
   "source": [
    "#7. From below string find postion(start index) of \"sample\"\n",
    "sentence = \"This is a sample sentence.\"\n",
    "x=sentence.index(\"sample\")\n",
    "print(x)"
   ]
  },
  {
   "cell_type": "code",
   "execution_count": 7,
   "id": "1dae3376",
   "metadata": {},
   "outputs": [
    {
     "name": "stdout",
     "output_type": "stream",
     "text": [
      "14\n"
     ]
    }
   ],
   "source": [
    "#8. Given the string \"Python is fun!\", how can you calculate and print its length?\n",
    "text = \"Python is fun!\"\n",
    "x=len(text)\n",
    "print(x)"
   ]
  },
  {
   "cell_type": "code",
   "execution_count": 8,
   "id": "bdb29af1",
   "metadata": {},
   "outputs": [
    {
     "name": "stdout",
     "output_type": "stream",
     "text": [
      "elppaeniP\n"
     ]
    }
   ],
   "source": [
    "#9. Print below string in reverse order\n",
    "string = \"Pineapple\"\n",
    "x=string[: :-1]\n",
    "print(x)"
   ]
  },
  {
   "cell_type": "code",
   "execution_count": 9,
   "id": "6fe25252",
   "metadata": {},
   "outputs": [
    {
     "name": "stdout",
     "output_type": "stream",
     "text": [
      "Welcome To Python Programming.\n"
     ]
    }
   ],
   "source": [
    "#10. Given the string \"Welcome to Python Programming.\", how can you capitalize the first letter of each word and print the modified string?\n",
    "text = \"Welcome to Python Programming.\"\n",
    "x=text.title()\n",
    "print(x)"
   ]
  },
  {
   "cell_type": "code",
   "execution_count": null,
   "id": "ccec8e0c",
   "metadata": {},
   "outputs": [],
   "source": [
    "#11. Convert all letter of string to Upper Case\n",
    "text = \"Data is new oil\"\n",
    "x=text.upper()\n",
    "print(x)"
   ]
  },
  {
   "cell_type": "code",
   "execution_count": 10,
   "id": "0392571b",
   "metadata": {},
   "outputs": [
    {
     "name": "stdout",
     "output_type": "stream",
     "text": [
      "I am learning python\n"
     ]
    }
   ],
   "source": [
    "#12. From below string just convert first lettter of string to upper case\n",
    "text = \"i am learning python\"\n",
    "x=text.capitalize()\n",
    "print(x)"
   ]
  },
  {
   "cell_type": "code",
   "execution_count": 11,
   "id": "001cfa6d",
   "metadata": {},
   "outputs": [
    {
     "name": "stdout",
     "output_type": "stream",
     "text": [
      "dAta IS nEw Oil\n"
     ]
    }
   ],
   "source": [
    "#13. Convert all uppper case to lower and lower case to upper\n",
    "text = \"DaTA is NeW oIL\"\n",
    "x=text.swapcase()\n",
    "print(x)"
   ]
  },
  {
   "cell_type": "code",
   "execution_count": 12,
   "id": "b262d66f",
   "metadata": {},
   "outputs": [
    {
     "name": "stdout",
     "output_type": "stream",
     "text": [
      "50\n"
     ]
    }
   ],
   "source": [
    "#14. print the addition of below 2 strings\n",
    "a = 20\n",
    "b = 30\n",
    "c=a+ b\n",
    "\n",
    "print(c)"
   ]
  },
  {
   "cell_type": "code",
   "execution_count": 13,
   "id": "91a29d3f",
   "metadata": {},
   "outputs": [
    {
     "name": "stdout",
     "output_type": "stream",
     "text": [
      "2030\n"
     ]
    }
   ],
   "source": [
    "#15. print the additiono of below 2 strings\n",
    "a = \"20\"\n",
    "b = \"30\"\n",
    "c=a+b\n",
    "print(c)"
   ]
  },
  {
   "cell_type": "markdown",
   "id": "e6858fe2",
   "metadata": {},
   "source": [
    "# list"
   ]
  },
  {
   "cell_type": "code",
   "execution_count": 14,
   "id": "9b330a2a",
   "metadata": {},
   "outputs": [
    {
     "name": "stdout",
     "output_type": "stream",
     "text": [
      "[1, 2, 3, 44, 5]\n"
     ]
    }
   ],
   "source": [
    "## 16. From below list replace 4 with 44\n",
    "my_list = [1, 2, 3, 4, 5]\n",
    "my_list[3] = 44\n",
    "print(my_list)"
   ]
  },
  {
   "cell_type": "code",
   "execution_count": 15,
   "id": "8632de36",
   "metadata": {},
   "outputs": [
    {
     "name": "stdout",
     "output_type": "stream",
     "text": [
      "[1, 2, 3, 200, 4, 5]\n"
     ]
    }
   ],
   "source": [
    "## 17. In below list add(insert) 200 at index 3\n",
    "my_list = [1, 2, 3, 4, 5]\n",
    "my_list.insert(3, 200)\n",
    "print(my_list)"
   ]
  },
  {
   "cell_type": "code",
   "execution_count": 16,
   "id": "4bdb85b9",
   "metadata": {},
   "outputs": [
    {
     "name": "stdout",
     "output_type": "stream",
     "text": [
      "[1, 2, 3, 4, 5, 66]\n"
     ]
    }
   ],
   "source": [
    "## 18. In below list add new number 66\n",
    "my_list = [1, 2, 3, 4, 5]\n",
    "my_list.append(66)\n",
    "print(my_list)"
   ]
  },
  {
   "cell_type": "code",
   "execution_count": 17,
   "id": "9f3658e8",
   "metadata": {},
   "outputs": [
    {
     "name": "stdout",
     "output_type": "stream",
     "text": [
      "[66, 87, 99, 1, 2, 3, 4, 5]\n"
     ]
    }
   ],
   "source": [
    "## 19 In below list insert new numbers 66,87,99\n",
    "my_list = [1, 2, 3, 4, 5]\n",
    "my_list.insert(0, 66)\n",
    "my_list.insert(1, 87)\n",
    "my_list.insert(2, 99)\n",
    "print(my_list)"
   ]
  },
  {
   "cell_type": "code",
   "execution_count": 18,
   "id": "a79cfa64",
   "metadata": {},
   "outputs": [
    {
     "name": "stdout",
     "output_type": "stream",
     "text": [
      "[1, 2, 3, 4, 5, 66, 87, 99]\n"
     ]
    }
   ],
   "source": [
    "## 19 In below list insert new numbers 66,87,99\n",
    "my_list = [1, 2, 3, 4, 5]\n",
    "my_list.extend([66, 87, 99])\n",
    "print(my_list)"
   ]
  },
  {
   "cell_type": "code",
   "execution_count": 19,
   "id": "da54b068",
   "metadata": {},
   "outputs": [
    {
     "name": "stdout",
     "output_type": "stream",
     "text": [
      "[1, 2, 4, 5]\n"
     ]
    }
   ],
   "source": [
    "## 20. from below list remove number 3\n",
    "my_list = [1, 2, 3, 4, 5]\n",
    "my_list.remove(3)\n",
    "print(my_list)"
   ]
  },
  {
   "cell_type": "code",
   "execution_count": 20,
   "id": "33b1850f",
   "metadata": {},
   "outputs": [
    {
     "data": {
      "text/plain": [
       "2"
      ]
     },
     "execution_count": 20,
     "metadata": {},
     "output_type": "execute_result"
    }
   ],
   "source": [
    "# 21. From below list print count of \"cherry\"\n",
    "my_list = [1, 2.5, \"cherry\", 3, \"banana\", 4.0, \"cherry\"]\n",
    "my_list.count(\"cherry\")"
   ]
  },
  {
   "cell_type": "code",
   "execution_count": 21,
   "id": "0ac7b719",
   "metadata": {},
   "outputs": [
    {
     "data": {
      "text/plain": [
       "4"
      ]
     },
     "execution_count": 21,
     "metadata": {},
     "output_type": "execute_result"
    }
   ],
   "source": [
    "# 22. From below list print index of \"banana\"\n",
    "my_list = [1, 2.5, \"apple\", 3, \"banana\", 4.0, \"cherry\"]\n",
    "my_list.index(\"banana\")\n"
   ]
  },
  {
   "cell_type": "code",
   "execution_count": 22,
   "id": "608138ec",
   "metadata": {},
   "outputs": [
    {
     "data": {
      "text/plain": [
       "['Pune', 'Delhi', 'Mumbai', 'Indore', 'Jaipur']"
      ]
     },
     "execution_count": 22,
     "metadata": {},
     "output_type": "execute_result"
    }
   ],
   "source": [
    "## 23. From below list remove last item\n",
    "my_list = [\"Pune\",\"Delhi\",\"Mumbai\",\"Indore\",\"Jaipur\",\"Dehradun\"]\n",
    "my_list[:-1]\n"
   ]
  },
  {
   "cell_type": "code",
   "execution_count": 23,
   "id": "221d3fb3",
   "metadata": {},
   "outputs": [],
   "source": [
    "#24. Sort the below list in Alphabetical order\n",
    "my_list = [\"Grapes\",\"Apple\",\"Cherry\",\"Mango\",\"Banana\"]\n",
    "my_list.sort()"
   ]
  },
  {
   "cell_type": "code",
   "execution_count": 24,
   "id": "6359d663",
   "metadata": {},
   "outputs": [
    {
     "name": "stdout",
     "output_type": "stream",
     "text": [
      "['Apple', 'Banana', 'Cherry', 'Grapes', 'Mango']\n"
     ]
    }
   ],
   "source": [
    "print(my_list)"
   ]
  },
  {
   "cell_type": "code",
   "execution_count": null,
   "id": "18e1f303",
   "metadata": {},
   "outputs": [],
   "source": [
    "## 25. Sort below list in reverse Alphabetical order\n",
    "my_list = [\"Grapes\",\"Apple\",\"Cherry\",\"Mango\",\"Banana\"]\n",
    "my_list.sort(reverse=True)"
   ]
  },
  {
   "cell_type": "code",
   "execution_count": 25,
   "id": "1d5deb10",
   "metadata": {},
   "outputs": [
    {
     "name": "stdout",
     "output_type": "stream",
     "text": [
      "['Apple', 'Banana', 'Cherry', 'Grapes', 'Mango']\n"
     ]
    }
   ],
   "source": [
    "print(my_list)"
   ]
  },
  {
   "cell_type": "markdown",
   "id": "de0699d4",
   "metadata": {},
   "source": [
    "# create a list named my list that has three elements:\n",
    ". The integer 3\n",
    ". the string 'element number two'\n",
    ". another list ['last' ,'element']\n",
    "#26 in that order"
   ]
  },
  {
   "cell_type": "code",
   "execution_count": null,
   "id": "45ad5ccd",
   "metadata": {},
   "outputs": [],
   "source": [
    "mylist = [3,'element number two',['last' ,'element']]"
   ]
  },
  {
   "cell_type": "code",
   "execution_count": 26,
   "id": "ac0afa10",
   "metadata": {},
   "outputs": [
    {
     "data": {
      "text/plain": [
       "3"
      ]
     },
     "execution_count": 26,
     "metadata": {},
     "output_type": "execute_result"
    }
   ],
   "source": [
    "#27 print the thired element of the list\n",
    "mylist = [1,2,3,4,5,6,7]\n",
    "mylist[2]"
   ]
  },
  {
   "cell_type": "code",
   "execution_count": 27,
   "id": "04f8726f",
   "metadata": {},
   "outputs": [
    {
     "name": "stdout",
     "output_type": "stream",
     "text": [
      "['a', 'b', 16]\n"
     ]
    }
   ],
   "source": [
    "#28 modify the last element of this list so that its value is 16. print the modified list so you know the operation was performed sucessfully\n",
    "mylist = ['a','b','sixteen']\n",
    "mylist[-1] = 16\n",
    "print(mylist)"
   ]
  },
  {
   "cell_type": "code",
   "execution_count": 28,
   "id": "7129bdf2",
   "metadata": {},
   "outputs": [
    {
     "data": {
      "text/plain": [
       "8"
      ]
     },
     "execution_count": 28,
     "metadata": {},
     "output_type": "execute_result"
    }
   ],
   "source": [
    "#29 calculate the length of following list\n",
    "mylist = ['this','is', 'the', 'list','whose','length','I','want']\n",
    "len(mylist)"
   ]
  },
  {
   "cell_type": "code",
   "execution_count": 29,
   "id": "263ca280",
   "metadata": {},
   "outputs": [
    {
     "data": {
      "text/plain": [
       "3622"
      ]
     },
     "execution_count": 29,
     "metadata": {},
     "output_type": "execute_result"
    }
   ],
   "source": [
    "#30 calculate the sum of following list\n",
    "mylist = [54,678,2890]\n",
    "sum(mylist)"
   ]
  },
  {
   "cell_type": "code",
   "execution_count": 30,
   "id": "4cb16ac0",
   "metadata": {},
   "outputs": [
    {
     "data": {
      "text/plain": [
       "53245"
      ]
     },
     "execution_count": 30,
     "metadata": {},
     "output_type": "execute_result"
    }
   ],
   "source": [
    "# 31 find the maximum value of the following list\n",
    "mylist= [677,53245,234,236,23456,345,23526,3454]\n",
    "max(mylist)"
   ]
  },
  {
   "cell_type": "code",
   "execution_count": 31,
   "id": "4bdf9cd6",
   "metadata": {},
   "outputs": [
    {
     "data": {
      "text/plain": [
       "134"
      ]
     },
     "execution_count": 31,
     "metadata": {},
     "output_type": "execute_result"
    }
   ],
   "source": [
    "#  32 find the minimum value of the following list\n",
    "minlist= [351,984,1697,284,134,467,164]\n",
    "min(minlist)"
   ]
  },
  {
   "cell_type": "code",
   "execution_count": 32,
   "id": "a71056f3",
   "metadata": {},
   "outputs": [
    {
     "name": "stdout",
     "output_type": "stream",
     "text": [
      "[1, 2, 3, 'append me!']\n"
     ]
    }
   ],
   "source": [
    "# 33 appent the string 'append me!' to the end of the following list.print the list to ensure the operation has been completed successfully.\n",
    "mylist = [1,2,3]\n",
    "mylist.append('append me!')\n",
    "print(mylist)"
   ]
  },
  {
   "cell_type": "markdown",
   "id": "d279c6bc",
   "metadata": {},
   "source": [
    "# For Loop in Python\n"
   ]
  },
  {
   "cell_type": "code",
   "execution_count": 11,
   "id": "1094f53d",
   "metadata": {},
   "outputs": [
    {
     "name": "stdout",
     "output_type": "stream",
     "text": [
      "1\n",
      "2\n",
      "3\n",
      "4\n",
      "5\n",
      "6\n",
      "7\n",
      "8\n",
      "9\n",
      "10\n"
     ]
    }
   ],
   "source": [
    "# 34 Print the first 10 natural numbers using for loop.\n",
    "n = 11\n",
    "for i in range(1,n):\n",
    "        print(i)\n"
   ]
  },
  {
   "cell_type": "code",
   "execution_count": 12,
   "id": "1ed11a8f",
   "metadata": {},
   "outputs": [
    {
     "name": "stdout",
     "output_type": "stream",
     "text": [
      "0\n",
      "2\n",
      "4\n",
      "6\n",
      "8\n"
     ]
    }
   ],
   "source": [
    "# 35  print all the even numbers within the given range\n",
    "given_range = 10\n",
    " \n",
    "for i in range(given_range):\n",
    "        if i%2==0:\n",
    "                print(i)"
   ]
  },
  {
   "cell_type": "code",
   "execution_count": 13,
   "id": "6c0d8b6d",
   "metadata": {},
   "outputs": [
    {
     "name": "stdout",
     "output_type": "stream",
     "text": [
      "55\n"
     ]
    }
   ],
   "source": [
    "# 36 calculate the sum of all numbers from 1 to a given number.\n",
    "given_number = 10\n",
    "sum = 0\n",
    "for i in range(1,given_number+1):\n",
    "        sum+=i\n",
    "print(sum)\n"
   ]
  },
  {
   "cell_type": "code",
   "execution_count": 14,
   "id": "ebeb9263",
   "metadata": {},
   "outputs": [
    {
     "name": "stdout",
     "output_type": "stream",
     "text": [
      "25\n"
     ]
    }
   ],
   "source": [
    "# 37 calculate the sum of all the odd numbers within the given range.\n",
    "given_range = 10\n",
    "sum = 0\n",
    " \n",
    "for i in range(given_range):\n",
    "        if i%2!=0:\n",
    "                sum+=i\n",
    "print(sum)\n"
   ]
  },
  {
   "cell_type": "code",
   "execution_count": 15,
   "id": "83807322",
   "metadata": {},
   "outputs": [
    {
     "name": "stdout",
     "output_type": "stream",
     "text": [
      "5  x 0  = 0\n",
      "5  x 1  = 5\n",
      "5  x 2  = 10\n",
      "5  x 3  = 15\n",
      "5  x 4  = 20\n",
      "5  x 5  = 25\n",
      "5  x 6  = 30\n",
      "5  x 7  = 35\n",
      "5  x 8  = 40\n",
      "5  x 9  = 45\n",
      "5  x 10  = 50\n"
     ]
    }
   ],
   "source": [
    "#38  print a multiplication table of a given number\n",
    "\n",
    "# if the given range is 10\n",
    "given_number = 5\n",
    " for i in range(11):\n",
    "        print (given_number,\" x\",i,\" =\",5*i)\n"
   ]
  },
  {
   "cell_type": "code",
   "execution_count": 25,
   "id": "85e92125",
   "metadata": {},
   "outputs": [
    {
     "name": "stdout",
     "output_type": "stream",
     "text": [
      "1\n",
      "2\n",
      "4\n",
      "6\n",
      "88\n",
      "125\n"
     ]
    }
   ],
   "source": [
    "# 39  display numbers from a list using a for loop.\n",
    "list = [1,2,4,6,88,125]\n",
    "for i in list:\n",
    "     print(i)\n",
    "     \n"
   ]
  },
  {
   "cell_type": "code",
   "execution_count": 26,
   "id": "44075a30",
   "metadata": {},
   "outputs": [
    {
     "name": "stdout",
     "output_type": "stream",
     "text": [
      "6\n"
     ]
    }
   ],
   "source": [
    "# 40 count the total number of digits in a number.\n",
    "given_number = 129475\n",
    "given_number = str(given_number)\n",
    "count=0\n",
    "for i in given_number:\n",
    "        count += 1\n",
    "print(count)\n"
   ]
  },
  {
   "cell_type": "code",
   "execution_count": 28,
   "id": "f349cbdd",
   "metadata": {},
   "outputs": [
    {
     "name": "stdout",
     "output_type": "stream",
     "text": [
      "The string madam is a Palindrome.\n"
     ]
    }
   ],
   "source": [
    "# 41 check if the given string is a palindrome.\n",
    "given_string = \"madam\"\n",
    "reverse_string = \"\"\n",
    "for i in given_string:\n",
    "    reverse_string = i + reverse_string  \n",
    "if(given_string == reverse_string):\n",
    "   print(\"The string\", given_string,\"is a Palindrome.\")\n",
    "   \n",
    "else:\n",
    "   print(\"The string\",given_string,\"is NOT a Palindrome.\")\n"
   ]
  },
  {
   "cell_type": "code",
   "execution_count": 1,
   "id": "fa0a6246",
   "metadata": {},
   "outputs": [
    {
     "name": "stdout",
     "output_type": "stream",
     "text": [
      "Naukri\n",
      "irkuaN\n"
     ]
    }
   ],
   "source": [
    "# 42Python program that accepts a word from the user and reverses it\n",
    "given_string = input()\n",
    "reverse_string = \"\"\n",
    "for i in given_string:\n",
    "    reverse_string = i + reverse_string  \n",
    "print(reverse_string)\n",
    "\n"
   ]
  },
  {
   "cell_type": "code",
   "execution_count": 29,
   "id": "249a4aa1",
   "metadata": {},
   "outputs": [
    {
     "name": "stdout",
     "output_type": "stream",
     "text": [
      "The given number 153 is an Amstrong number.\n"
     ]
    }
   ],
   "source": [
    "# 43 check if a given number is an Armstrong number\n",
    "given_number = 153\n",
    "given_number = str(given_number)\n",
    "string_length = len(given_number)\n",
    "sum = 0\n",
    "for i in given_number:\n",
    "    sum += int(i)**string_length\n",
    "if sum == int(given_number):\n",
    "    print(\"The given number\",given_number,\"is an Amstrong number.\")\n",
    "else:\n",
    "    print(\"The given number\",given_number,\"is Not an Amstrong number.\")\n",
    "\n"
   ]
  },
  {
   "cell_type": "code",
   "execution_count": 3,
   "id": "57e7bb3b",
   "metadata": {},
   "outputs": [
    {
     "name": "stdout",
     "output_type": "stream",
     "text": [
      "1 is an odd number.\n",
      "3 is an odd number.\n",
      "5 is an odd number.\n",
      "6 is an even number.\n",
      "99 is an odd number.\n",
      "134 is an even number.\n",
      "55 is an odd number.\n"
     ]
    }
   ],
   "source": [
    "# 44  count the number of even and odd numbers from a series of numbers.\n",
    "num_list = [1,3,5,6,99,134,55]\n",
    "for i in num_list:\n",
    "    if i%2==0:\n",
    "        print(i,\"is an even number.\")\n",
    "    else:\n",
    "        print(i,\"is an odd number.\")\n"
   ]
  },
  {
   "cell_type": "code",
   "execution_count": 30,
   "id": "7e5e631d",
   "metadata": {},
   "outputs": [
    {
     "name": "stdout",
     "output_type": "stream",
     "text": [
      "Non-prime numbers between 10 and 30 are:\n",
      "10\n",
      "12\n",
      "14\n",
      "15\n",
      "16\n",
      "18\n",
      "20\n",
      "21\n",
      "22\n",
      "24\n",
      "25\n",
      "26\n",
      "27\n",
      "28\n"
     ]
    }
   ],
   "source": [
    "# 45 display all numbers within a range except the prime numbers.\n",
    "import math\n",
    "def is_not_prime(n):\n",
    "    flag = False\n",
    "    for i in range(2, int(math.sqrt(n)) + 1):\n",
    "        if n % i == 0:\n",
    "            flag = True\n",
    "    return flag\n",
    "range_starts = 10\n",
    "range_ends = 30\n",
    "print(\"Non-prime numbers between\",range_starts,\"and\", range_ends,\"are:\")\n",
    " \n",
    "for number in filter(is_not_prime, range(range_starts, range_ends)):\n",
    "    print(number)\n"
   ]
  },
  {
   "cell_type": "code",
   "execution_count": 47,
   "id": "f144cf71",
   "metadata": {},
   "outputs": [
    {
     "name": "stdout",
     "output_type": "stream",
     "text": [
      "0\n",
      "1\n",
      "1\n",
      "2\n",
      "3\n",
      "5\n",
      "8\n",
      "13\n",
      "21\n",
      "34\n"
     ]
    }
   ],
   "source": [
    "# 46 get the Fibonacci series between 0 to 50.\n",
    "num = 50\n",
    "first_value, second_value = 0, 1\n",
    "for n in range(0, num):\n",
    "    if n <= 1:\n",
    "        next_value = n\n",
    "    else:\n",
    "        next_value = first_value + second_value\n",
    "        first_value = second_value\n",
    "        second_value = next_value\n",
    "    if next_value > num:\n",
    "        break\n",
    "    print(next_value)\n"
   ]
  },
  {
   "cell_type": "code",
   "execution_count": 46,
   "id": "6e4ef2bc",
   "metadata": {},
   "outputs": [
    {
     "name": "stdout",
     "output_type": "stream",
     "text": [
      "The factorial of  5  is  120\n"
     ]
    }
   ],
   "source": [
    "# 47 find the factorial of a given number.\n",
    "given_number= 5\n",
    "factorial = 1\n",
    "for i in range(1, given_number + 1):\n",
    "    factorial = factorial * i\n",
    " \n",
    "print(\"The factorial of \", given_number, \" is \", factorial)\n"
   ]
  },
  {
   "cell_type": "code",
   "execution_count": 33,
   "id": "67843fa2",
   "metadata": {},
   "outputs": [
    {
     "name": "stdout",
     "output_type": "stream",
     "text": [
      "Naukri1234\n",
      " The input string Naukri1234 has 6 letters and 4 digits.\n"
     ]
    }
   ],
   "source": [
    "# 48  accepts a string and calculates the number of digits and letters.\n",
    "user_input = input()\n",
    "digits = 0\n",
    "letters = 0\n",
    "for i in user_input:\n",
    "    if i.isdigit():\n",
    "        digits=digits+1\n",
    "    elif i.isalpha():\n",
    "        letters=letters+1\n",
    "print(\" The input string\",user_input, \"has\", letters, \"letters and\", digits,\"digits.\")\n"
   ]
  },
  {
   "cell_type": "code",
   "execution_count": 48,
   "id": "c4f2afb6",
   "metadata": {},
   "outputs": [
    {
     "name": "stdout",
     "output_type": "stream",
     "text": [
      "Non-prime numbers between 10 and 30 are:\n",
      "10\n",
      "12\n",
      "14\n",
      "15\n",
      "16\n",
      "18\n",
      "20\n",
      "21\n",
      "22\n",
      "24\n",
      "25\n",
      "26\n",
      "27\n",
      "28\n",
      "30\n"
     ]
    }
   ],
   "source": [
    "#  49 display all numbers within a range except the prime numbers.\n",
    "import math\n",
    "\n",
    "def is_not_prime(n):\n",
    "    if n < 2:\n",
    "        return True\n",
    "    for i in range(2, int(math.sqrt(n)) + 1):\n",
    "        if n % i == 0:\n",
    "            return True\n",
    "    return False\n",
    "\n",
    "range_starts = 10\n",
    "range_ends = 30\n",
    "print(\"Non-prime numbers between\", range_starts, \"and\", range_ends, \"are:\")\n",
    "\n",
    "for number in filter(is_not_prime, range(range_starts, range_ends + 1)):\n",
    "    print(number)"
   ]
  },
  {
   "cell_type": "code",
   "execution_count": null,
   "id": "dd08bf74",
   "metadata": {},
   "outputs": [],
   "source": []
  }
 ],
 "metadata": {
  "kernelspec": {
   "display_name": "Python 3 (ipykernel)",
   "language": "python",
   "name": "python3"
  },
  "language_info": {
   "codemirror_mode": {
    "name": "ipython",
    "version": 3
   },
   "file_extension": ".py",
   "mimetype": "text/x-python",
   "name": "python",
   "nbconvert_exporter": "python",
   "pygments_lexer": "ipython3",
   "version": "3.9.12"
  }
 },
 "nbformat": 4,
 "nbformat_minor": 5
}
